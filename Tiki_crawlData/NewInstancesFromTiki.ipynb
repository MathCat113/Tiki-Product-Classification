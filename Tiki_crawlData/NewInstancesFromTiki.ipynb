{
 "cells": [
  {
   "cell_type": "code",
   "execution_count": 2,
   "metadata": {},
   "outputs": [],
   "source": [
    "import pandas as pd"
   ]
  },
  {
   "cell_type": "code",
   "execution_count": 3,
   "metadata": {},
   "outputs": [
    {
     "name": "stdout",
     "output_type": "stream",
     "text": [
      "   Unnamed: 0                        Label  Label Size  \\\n",
      "0           0              __Ghế_văn_phòng         129   \n",
      "1           1                  __Thước_dây           8   \n",
      "2           2                    __Cưa_tay           2   \n",
      "3           3                   __Váy,_đầm         158   \n",
      "4           4  __Dụng_cụ_đo,_kiểm_tra_khác          55   \n",
      "\n",
      "                                            Category    Weight  \n",
      "0  Trang chủ > Nhà Cửa - Đời Sống > Nội thất > Nộ...  0.759690  \n",
      "1  Trang chủ > Nhà Cửa - Đời Sống > Sửa chữa nhà ...  1.000000  \n",
      "2  Trang chủ > Nhà Cửa - Đời Sống > Sửa chữa nhà ...  0.250000  \n",
      "3  Trang chủ > Thời trang nữ > Đầm nữ > Đầm Dáng Xòe  0.437975  \n",
      "4  Trang chủ > Nhà Cửa - Đời Sống > Sửa chữa nhà ...  0.370909  \n"
     ]
    }
   ],
   "source": [
    "df = pd.read_excel('second_wave_tiki_crawl.xlsx')\n",
    "# read as an example\n",
    "print(df.head(5))"
   ]
  },
  {
   "cell_type": "code",
   "execution_count": 15,
   "metadata": {},
   "outputs": [
    {
     "name": "stdout",
     "output_type": "stream",
     "text": [
      "401\n",
      "['Trang chủ > Nhà Cửa - Đời Sống > Nội thất > Nội thất phòng ngủ > Bàn trang điểm', 'Trang chủ > Thiết Bị Số - Phụ Kiện Số > Phụ Kiện Điện Thoại và Máy Tính Bảng > Pin Sạc Dự Phòng > Pin Sạc Dự Phòng Di Động', 'Trang chủ > Làm Đẹp - Sức Khỏe > Chăm sóc da mặt > Nước hoa hồng, toner', 'Trang chủ > Thiết Bị Số - Phụ Kiện Số > Phụ Kiện Điện Thoại và Máy Tính Bảng > Bao Da - Ốp Lưng > Bao Da - Ốp Lưng Điện Thoại iPhone', 'Trang chủ > Thời trang nữ > Áo khoác nữ > Áo khoác jeans nữ']\n"
     ]
    }
   ],
   "source": [
    "def find_unique_elements(list1):\n",
    "  \"\"\"Returns a list of unique elements from the given list.\"\"\"\n",
    "  unique_elements = []\n",
    "  seen_elements = set()\n",
    "  for element in list1:\n",
    "    if element not in seen_elements:\n",
    "      seen_elements.add(element)\n",
    "      unique_elements.append(element)\n",
    "    else:\n",
    "        try:\n",
    "            unique_elements.remove(element)\n",
    "        except:\n",
    "            continue\n",
    "  return unique_elements\n",
    "\n",
    "# find all unique values that have no duplicates\n",
    "categ_lst = list(df['Category'])\n",
    "# print(categ_lst[:5])\n",
    "# print(len(categ_lst))\n",
    "\n",
    "\n",
    "# Example usage:\n",
    "unique_categ = find_unique_elements(categ_lst)\n",
    "print(len(unique_categ))"
   ]
  },
  {
   "cell_type": "code",
   "execution_count": null,
   "metadata": {},
   "outputs": [],
   "source": [
    "for categ in unique_categ:\n",
    "    "
   ]
  }
 ],
 "metadata": {
  "kernelspec": {
   "display_name": "Python 3",
   "language": "python",
   "name": "python3"
  },
  "language_info": {
   "codemirror_mode": {
    "name": "ipython",
    "version": 3
   },
   "file_extension": ".py",
   "mimetype": "text/x-python",
   "name": "python",
   "nbconvert_exporter": "python",
   "pygments_lexer": "ipython3",
   "version": "3.9.12"
  }
 },
 "nbformat": 4,
 "nbformat_minor": 2
}
